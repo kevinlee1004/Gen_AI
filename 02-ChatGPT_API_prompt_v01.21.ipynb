{
 "cells": [
  {
   "cell_type": "markdown",
   "id": "d0403bcf-570f-43cf-8747-ad608c33166c",
   "metadata": {},
   "source": [
    "## ChatGPT API Prompt"
   ]
  },
  {
   "cell_type": "raw",
   "id": "ec4dd780-70e4-42c4-89b2-d78acec60aec",
   "metadata": {},
   "source": [
    "## install openAI packages\n",
    "!pip install openai"
   ]
  },
  {
   "cell_type": "code",
   "execution_count": 1,
   "id": "341001b1-0482-4cba-b8e8-e217cdec7d29",
   "metadata": {},
   "outputs": [],
   "source": [
    "## Import OpenAI library\n",
    "import os\n",
    "import openai\n",
    "from dotenv import load_dotenv, dotenv_values"
   ]
  },
  {
   "cell_type": "code",
   "execution_count": 2,
   "id": "7902bc76-ceff-46dc-b9a5-fd1e90fe30fb",
   "metadata": {},
   "outputs": [],
   "source": [
    "## Prepare Prompt\n",
    "prompt = f\"\"\" Tell me about CDISC in 100 words.   \"\"\""
   ]
  },
  {
   "cell_type": "code",
   "execution_count": 3,
   "id": "22ca0ff6-e920-4887-bad6-5a130478f3de",
   "metadata": {},
   "outputs": [
    {
     "name": "stdout",
     "output_type": "stream",
     "text": [
      "[{'role': 'user', 'content': ' Tell me about CDISC in 100 words.   '}]\n"
     ]
    }
   ],
   "source": [
    "## Create Prompt message\n",
    "message = [{\"role\" : \"user\", \"content\" : prompt}]\n",
    "print(message)"
   ]
  },
  {
   "cell_type": "code",
   "execution_count": 4,
   "id": "16b67307-1c1c-4d38-bf03-37f400809b51",
   "metadata": {},
   "outputs": [],
   "source": [
    "## Set up ChatGPT API \n",
    "#openai.api_key = \"xxxxxxx\"\n",
    "load_dotenv()\n",
    "openai.api_key = os.getenv(\"chatgpt_api\")"
   ]
  },
  {
   "cell_type": "code",
   "execution_count": 5,
   "id": "70921e0f-1987-4571-9129-1335d0a6ad6c",
   "metadata": {},
   "outputs": [],
   "source": [
    "## Send Prompt to OpenAI ChatGPT \n",
    "response = openai.chat.completions.create(\n",
    "    model = \"gpt-3.5-turbo\",\n",
    "    messages = message,\n",
    "    temperature =0\n",
    "    )"
   ]
  },
  {
   "cell_type": "raw",
   "id": "f98aab15-f703-484f-919d-1f8571c245ca",
   "metadata": {},
   "source": [
    "## Print response from OpenAI ChatGPT\n",
    "print(response)"
   ]
  },
  {
   "cell_type": "code",
   "execution_count": 7,
   "id": "4f851757-d112-4ae0-9cb4-5ae40c05e32c",
   "metadata": {},
   "outputs": [
    {
     "name": "stdout",
     "output_type": "stream",
     "text": [
      "CDISC, or Clinical Data Interchange Standards Consortium, is a global non-profit organization that develops and promotes data standards for clinical research. These standards help streamline the collection, analysis, and sharing of data in clinical trials, ultimately improving the efficiency and quality of research. CDISC standards cover a wide range of data elements, including study design, data collection, and data submission. By using CDISC standards, researchers, regulators, and industry stakeholders can more easily exchange and compare data, leading to faster drug development and better patient outcomes.\n"
     ]
    }
   ],
   "source": [
    "## Print response\n",
    "print(response.choices[0].message.content)"
   ]
  },
  {
   "cell_type": "code",
   "execution_count": null,
   "id": "e9dd2598-59f4-4733-a8ad-8f5733a0bdf0",
   "metadata": {},
   "outputs": [],
   "source": []
  }
 ],
 "metadata": {
  "kernelspec": {
   "display_name": "Python 3 (ipykernel)",
   "language": "python",
   "name": "python3"
  },
  "language_info": {
   "codemirror_mode": {
    "name": "ipython",
    "version": 3
   },
   "file_extension": ".py",
   "mimetype": "text/x-python",
   "name": "python",
   "nbconvert_exporter": "python",
   "pygments_lexer": "ipython3",
   "version": "3.11.7"
  }
 },
 "nbformat": 4,
 "nbformat_minor": 5
}
