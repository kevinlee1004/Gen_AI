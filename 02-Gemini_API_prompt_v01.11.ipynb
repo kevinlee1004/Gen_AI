{
 "cells": [
  {
   "cell_type": "markdown",
   "id": "d0403bcf-570f-43cf-8747-ad608c33166c",
   "metadata": {
    "tags": []
   },
   "source": [
    "## LangChain "
   ]
  },
  {
   "cell_type": "raw",
   "id": "f84bf47c-ccb9-4037-8203-4dfea5430779",
   "metadata": {},
   "source": [
    "## install Google Gemini package\n",
    "!pip install -q -U google-generativeai"
   ]
  },
  {
   "cell_type": "code",
   "execution_count": 1,
   "id": "853c4dcc-4e3d-47e9-8da2-1c4224ce5ab8",
   "metadata": {
    "scrolled": true
   },
   "outputs": [],
   "source": [
    "## import necessary library\n",
    "import os\n",
    "from dotenv import load_dotenv, dotenv_values\n",
    "import google.generativeai as genai"
   ]
  },
  {
   "cell_type": "code",
   "execution_count": 2,
   "id": "16b67307-1c1c-4d38-bf03-37f400809b51",
   "metadata": {},
   "outputs": [],
   "source": [
    "## Set up Gemini API \n",
    "load_dotenv()\n",
    "#genai.configure(api_key=\"xxxxx\")\n",
    "genai.configure(api_key=os.getenv(\"gemini_api\"))"
   ]
  },
  {
   "cell_type": "code",
   "execution_count": 3,
   "id": "2244dc23-811e-4f1f-a1b3-128e331d9b9e",
   "metadata": {},
   "outputs": [],
   "source": [
    "## Create Prompt\n",
    "prompt = f\"\"\" Tell me about CDISC in 100 words.   \"\"\""
   ]
  },
  {
   "cell_type": "code",
   "execution_count": 4,
   "id": "580095f8-67c6-4435-b937-183788095716",
   "metadata": {},
   "outputs": [],
   "source": [
    "## Set up gemini model \n",
    "## Use gemine-pro \n",
    "google_model = genai.GenerativeModel('gemini-pro')"
   ]
  },
  {
   "cell_type": "code",
   "execution_count": 5,
   "id": "105a900c-5383-4c68-a815-b11c013340a4",
   "metadata": {},
   "outputs": [],
   "source": [
    "## Send prompt to Google\n",
    "## Get the response \n",
    "response = google_model.generate_content(prompt)"
   ]
  },
  {
   "cell_type": "code",
   "execution_count": 6,
   "id": "a1659157-4c0e-433c-878d-7273c311686e",
   "metadata": {},
   "outputs": [
    {
     "name": "stdout",
     "output_type": "stream",
     "text": [
      "response:\n",
      "GenerateContentResponse(\n",
      "    done=True,\n",
      "    iterator=None,\n",
      "    result=glm.GenerateContentResponse({'candidates': [{'content': {'parts': [{'text': \"CDISC (Clinical Data Interchange Standards Consortium) is a non-profit organization that develops standards to facilitate the electronic exchange of clinical research data and metadata. These standards streamline data collection, analysis, and sharing, enabling efficient and accurate comparisons of clinical trial results. CDISC's standards include the Study Data Tabulation Model (SDTM), Clinical Data Acquisition Standards Harmonization (CDASH), Define-XML, and others, ensuring consistent data representation and interpretation across different systems and organizations.\"}], 'role': 'model'}, 'finish_reason': 1, 'index': 0, 'safety_ratings': [{'category': 9, 'probability': 1, 'blocked': False}, {'category': 8, 'probability': 1, 'blocked': False}, {'category': 7, 'probability': 1, 'blocked': False}, {'category': 10, 'probability': 1, 'blocked': False}], 'token_count': 0, 'grounding_attributions': []}]}),\n",
      ")\n"
     ]
    }
   ],
   "source": [
    "## Print response from OpenAI ChatGPT\n",
    "print(response)"
   ]
  },
  {
   "cell_type": "code",
   "execution_count": 7,
   "id": "ec6fd143-d2ac-4001-81fb-d8de5940291c",
   "metadata": {},
   "outputs": [
    {
     "name": "stdout",
     "output_type": "stream",
     "text": [
      "CDISC (Clinical Data Interchange Standards Consortium) is a non-profit organization that develops standards to facilitate the electronic exchange of clinical research data and metadata. These standards streamline data collection, analysis, and sharing, enabling efficient and accurate comparisons of clinical trial results. CDISC's standards include the Study Data Tabulation Model (SDTM), Clinical Data Acquisition Standards Harmonization (CDASH), Define-XML, and others, ensuring consistent data representation and interpretation across different systems and organizations.\n"
     ]
    }
   ],
   "source": [
    "print(response.candidates[0].content.parts[0].text)"
   ]
  },
  {
   "cell_type": "code",
   "execution_count": null,
   "id": "c2bee5c7-324a-4cbb-a47c-e894d9f1dd80",
   "metadata": {},
   "outputs": [],
   "source": []
  }
 ],
 "metadata": {
  "kernelspec": {
   "display_name": "Python 3 (ipykernel)",
   "language": "python",
   "name": "python3"
  },
  "language_info": {
   "codemirror_mode": {
    "name": "ipython",
    "version": 3
   },
   "file_extension": ".py",
   "mimetype": "text/x-python",
   "name": "python",
   "nbconvert_exporter": "python",
   "pygments_lexer": "ipython3",
   "version": "3.11.7"
  }
 },
 "nbformat": 4,
 "nbformat_minor": 5
}
